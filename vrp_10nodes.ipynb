{
 "cells": [
  {
   "cell_type": "code",
   "execution_count": 1,
   "metadata": {},
   "outputs": [],
   "source": [
    "from gurobipy import *\n",
    "import numpy as np"
   ]
  },
  {
   "cell_type": "code",
   "execution_count": 2,
   "metadata": {},
   "outputs": [],
   "source": [
    "# d={(1, 5): 0,(5, 1): 0,\n",
    "#  (1, 4): 39,(4, 1): 39,\n",
    "#  (1, 2): 137,(2, 1): 137,\n",
    "#  (1, 3): 125,(3, 1): 125,\n",
    "#  (5, 4): 39,(4, 5): 39,\n",
    "#  (5, 2): 137,(2, 5): 137,\n",
    "#  (5, 3): 125,(3, 5): 125,\n",
    "#  (2, 4): 133,(4, 2): 133,\n",
    "#  (2, 3): 129,(3, 2): 129,\n",
    "#  (3, 4): 229,(4, 3): 229,\n",
    "#   (1, 1): 0,(5, 5): 0,\n",
    "#   (2, 2): 0,(3, 3): 0,\n",
    "#   (4, 4): 0}\n",
    "# v = 40\n",
    "# a = [0]*5\n",
    "# b = [12]*5"
   ]
  },
  {
   "cell_type": "code",
   "execution_count": 3,
   "metadata": {},
   "outputs": [],
   "source": [
    "# h = np.zeros([6,6,5])\n",
    "# x=h\n",
    "# w2 = np.zeros([6,4])\n",
    "# w=w2\n",
    "flag=False"
   ]
  },
  {
   "cell_type": "markdown",
   "metadata": {},
   "source": [
    "All the work events have the same occurance time and the same time window from 0 to 12."
   ]
  },
  {
   "cell_type": "code",
   "execution_count": 4,
   "metadata": {},
   "outputs": [],
   "source": [
    "n=11\n",
    "nc=7\n",
    "large=1000\n",
    "v=20\n",
    "a=[0]*n\n",
    "b=[12]*n"
   ]
  },
  {
   "cell_type": "markdown",
   "metadata": {},
   "source": [
    "When I set random occurance time but have the same time window, the problem is infeasible."
   ]
  },
  {
   "cell_type": "code",
   "execution_count": 28,
   "metadata": {},
   "outputs": [],
   "source": [
    "# b = [12,\n",
    "#  16.001918040736232,\n",
    "#  17.335593256824332,\n",
    "#  18.518709936731096,\n",
    "#  19.669635532994683,\n",
    "#  20.12356946327924,\n",
    "#  20.652968866328045,\n",
    "#  21.643940827275898,\n",
    "#  21.72356946327932,\n",
    "#  22.0849585187867,\n",
    "#  24]\n",
    "# tim=12 # time window is still 12 for all work events\n",
    "# a=[i-tim for i in b]\n",
    "# a"
   ]
  },
  {
   "cell_type": "code",
   "execution_count": 6,
   "metadata": {
    "scrolled": true
   },
   "outputs": [],
   "source": [
    "f = open('vrp10.txt')\n",
    "d ={}\n",
    "count = 0\n",
    "for i in f.readlines():\n",
    "    if count == 0:\n",
    "        count += 1\n",
    "        continue\n",
    "    \n",
    "    cur = i.split()\n",
    "    for j in range(1,n):\n",
    "        d[count,j]=float(cur[j])\n",
    "    d[count,n]=d[count,1]\n",
    "    count+=1\n",
    "for i in range(1,n+1):\n",
    "    d[count,i]=d[1,i]"
   ]
  },
  {
   "cell_type": "code",
   "execution_count": 7,
   "metadata": {},
   "outputs": [],
   "source": [
    "# x[1,4,1] = 1\n",
    "# x[4,2,1] = 1\n",
    "# x[2,3,1] = 1\n",
    "# x[3,5,1] = 1\n",
    "\n",
    "# w[1,1] = 0\n",
    "# w[4,1] = 0.975\n",
    "# w[2,1] = 4.3\n",
    "# w[3,1] = 7.525\n",
    "# w[5,1] = 10.65\n",
    "# obj = quicksum(quicksum(x[1,j,c]for c in range(1,4)) for j in range(1,6))\n",
    "# print(obj)"
   ]
  },
  {
   "cell_type": "code",
   "execution_count": 8,
   "metadata": {},
   "outputs": [
    {
     "name": "stdout",
     "output_type": "stream",
     "text": [
      "Academic license - for non-commercial use only\n"
     ]
    }
   ],
   "source": [
    "myModel = Model(\"vrp\")\n",
    "myModel.update()"
   ]
  },
  {
   "cell_type": "markdown",
   "metadata": {},
   "source": [
    "## Adding variables"
   ]
  },
  {
   "cell_type": "code",
   "execution_count": 9,
   "metadata": {},
   "outputs": [],
   "source": [
    "x = myModel.addVars(range(1,n+1),range(1,n+1),range(1,nc+1),vtype=GRB.BINARY,lb=0.0,name='x')\n",
    "w = myModel.addVars(range(1,n+1),range(1,nc+1),vtype=GRB.CONTINUOUS,lb=0.0,name='w')"
   ]
  },
  {
   "cell_type": "markdown",
   "metadata": {},
   "source": [
    "## Adding constraints"
   ]
  },
  {
   "cell_type": "markdown",
   "metadata": {},
   "source": [
    "$$\n",
    "w_{0c}\\geq F,\\ w_{0\\prime c}\\le L,\\ where\\ F=0\\ and\\ L=12,\\forall c\n",
    "$$"
   ]
  },
  {
   "cell_type": "code",
   "execution_count": 10,
   "metadata": {},
   "outputs": [],
   "source": [
    "for c in range(1,nc+1):\n",
    "    myModel.addConstr(w[1,c]>=0)\n",
    "    myModel.addConstr(w[n,c]<=12)\n",
    "    if flag:\n",
    "        print(c,'   ',w2[1,c]>=0,w2[n,c]<=12)"
   ]
  },
  {
   "cell_type": "markdown",
   "metadata": {},
   "source": [
    "$$\n",
    "\\sum_{j} X_{0jc}\\le1,\\forall c\n",
    "$$"
   ]
  },
  {
   "cell_type": "code",
   "execution_count": 11,
   "metadata": {},
   "outputs": [],
   "source": [
    "for c in range(1,nc+1):\n",
    "    con1 = quicksum(x[1,j,c] for j in range(1,n+1))\n",
    "    myModel.addConstr(con1 <= 1)\n",
    "    if flag:\n",
    "        print(quicksum(h[1,j,c] for j in range(1,n+1)))"
   ]
  },
  {
   "cell_type": "markdown",
   "metadata": {},
   "source": [
    "$$\n",
    "\\sum_{j} X_{j0\\prime c}\\le1,\\ \\forall c\n",
    "$$"
   ]
  },
  {
   "cell_type": "code",
   "execution_count": 12,
   "metadata": {},
   "outputs": [],
   "source": [
    "for c in range(1,nc+1):\n",
    "    con2 = quicksum(x[j,n,c] for j in range(1,n+1))\n",
    "    myModel.addConstr(con2 <= 1) \n",
    "    if flag:\n",
    "        print(quicksum(h[j,n,c] for j in range(1,n+1)))"
   ]
  },
  {
   "cell_type": "markdown",
   "metadata": {},
   "source": [
    "$$\n",
    "\\sum_{j\\neq0\\prime}^{N}X_{jic}-\\sum_{j\\neq0}^{N}X_{ijc}=0,\\ \\forall i=1,...,N,\\ \\forall c\n",
    "$$"
   ]
  },
  {
   "cell_type": "code",
   "execution_count": 13,
   "metadata": {},
   "outputs": [],
   "source": [
    "for i in range(2,n):\n",
    "    for c in range(1,nc+1):\n",
    "        sum1 = quicksum(x[j,i,c] for j in range(1,n))\n",
    "        sum2 = quicksum(x[i,j,c] for j in range(2,n+1))\n",
    "        myModel.addConstr(sum1 - sum2 == 0) \n",
    "        if flag:\n",
    "            print(i,c,quicksum(h[j,i,c] for j in range(1,n))-quicksum(h[i,j,c] for j in range(2,n+1)))"
   ]
  },
  {
   "cell_type": "markdown",
   "metadata": {},
   "source": [
    "$$\n",
    "\\sum_{j\\neq0}{\\sum_{c} X_{ijc}=1,}\\forall i=1,...,N\n",
    "$$"
   ]
  },
  {
   "cell_type": "code",
   "execution_count": 14,
   "metadata": {},
   "outputs": [],
   "source": [
    "for i in range(2,n):\n",
    "    sum3 = quicksum(quicksum(x[i,j,c] for c in range(1,nc+1)) for j in range(2,n+1))\n",
    "    myModel.addConstr(sum3 == 1)\n",
    "    if flag:\n",
    "        print(quicksum(quicksum(h[i,j,c] for c in range(1,nc+1)) for j in range(2,n+1)))"
   ]
  },
  {
   "cell_type": "markdown",
   "metadata": {},
   "source": [
    "$$\n",
    "\\sum_{i\\neq0\\prime}{\\sum_{c} X_{ijc}=1,}\\forall j=1,...N\n",
    "$$"
   ]
  },
  {
   "cell_type": "code",
   "execution_count": 15,
   "metadata": {},
   "outputs": [],
   "source": [
    "for j in range(2,n):\n",
    "    sum4 = quicksum(quicksum(x[i,j,c] for c in range(1,nc+1)) for i in range(1,n))\n",
    "    myModel.addConstr(sum4 == 1)\n",
    "    if flag:\n",
    "        print(quicksum(quicksum(h[i,j,c] for c in range(1,nc+1)) for i in range(1,n)))"
   ]
  },
  {
   "cell_type": "markdown",
   "metadata": {},
   "source": [
    "$$\n",
    "\\sum_{i}\\sum_{j}{X_{ijc}\\times\\frac{d_{ij}}{v}\\le12,\\ \\forall c}\n",
    "$$"
   ]
  },
  {
   "cell_type": "code",
   "execution_count": 16,
   "metadata": {},
   "outputs": [],
   "source": [
    "for c in range(1,nc+1):\n",
    "    con3 = quicksum(quicksum(x[i,j,c]*d[i,j]/v for j in range(1,n+1)) for i in range(1,n+1))\n",
    "    myModel.addConstr(con3 <= 12) \n",
    "    if flag:\n",
    "        print(quicksum(quicksum(h[i,j,c]*d[i,j]/v for j in range(1,n+1)) for i in range(1,n+1)))"
   ]
  },
  {
   "cell_type": "markdown",
   "metadata": {},
   "source": [
    "$$\n",
    "a_i\\sum_{j} X_{ijc}\\le w_{ic}\\le b_i\\sum_{j}{X_{ijc},\\ \\forall i}=1,...N,\\forall c\n",
    "$$"
   ]
  },
  {
   "cell_type": "code",
   "execution_count": 17,
   "metadata": {},
   "outputs": [],
   "source": [
    "for c in range(1,nc+1):\n",
    "    for i in range(2,n):\n",
    "        equ1 = a[i-1]*quicksum(x[i,j,c] for j in range(1,n+1))\n",
    "        equ2 = b[i-1]*quicksum(x[i,j,c] for j in range(1,n+1))\n",
    "        myModel.addConstr(w[i,c] >= equ1) \n",
    "        myModel.addConstr(w[i,c] <= equ2) \n",
    "        if flag:\n",
    "            print(w2[i,c]-a[i-1]*quicksum(h[i,j,c] for j in range(1,n+1)),b[i-1]*quicksum(h[i,j,c] for j in range(1,n+1))-w2[i,c] ,i,c)"
   ]
  },
  {
   "cell_type": "markdown",
   "metadata": {},
   "source": [
    "$$\n",
    "w_{ic}+s_i+\\frac{d_{ij}}{v}-w_{jc}\\le B_{ij}(1-X_{ijc}),\\ \\forall i,j\\in{0,0\\prime,1,...N},\\forall c\n",
    "$$"
   ]
  },
  {
   "cell_type": "code",
   "execution_count": 18,
   "metadata": {},
   "outputs": [],
   "source": [
    "for c in range(1,nc+1):\n",
    "    for i in range(1,n+1):\n",
    "        for j in range(1,n+1):\n",
    "            myModel.addConstr(w[i,c] + d[i,j]/v - w[j,c] <= large*(1 - x[i,j,c]))\n",
    "            if flag:\n",
    "                print(w2[i,c] + d[i,j]/v - w2[j,c] <= large*(1 - h[i,j,c]))\n",
    "#                 print(w[i,c] + d[i,j]/v - w[j,c])"
   ]
  },
  {
   "cell_type": "markdown",
   "metadata": {},
   "source": [
    "$$\n",
    "X_{ijc}\\neq1\\ if\\ i=j,\\forall c\n",
    "$$"
   ]
  },
  {
   "cell_type": "code",
   "execution_count": 19,
   "metadata": {},
   "outputs": [],
   "source": [
    "for c in range(1,nc+1):\n",
    "    for i in range(1,n+1):\n",
    "        for j in range(1,n+1):\n",
    "            if i == j:\n",
    "                myModel.addConstr(x[i,j,c] == 0)\n",
    "                if flag:\n",
    "                    print(h[i,j,c])"
   ]
  },
  {
   "cell_type": "markdown",
   "metadata": {},
   "source": [
    "$$\n",
    "X_{0\\prime j c}=0,\\ \\forall j,\\forall c\n",
    "$$"
   ]
  },
  {
   "cell_type": "code",
   "execution_count": 20,
   "metadata": {},
   "outputs": [],
   "source": [
    "for c in range(1,nc+1):\n",
    "    for j in range(1,n+1):\n",
    "        myModel.addConstr(x[n,j,c] == 0)"
   ]
  },
  {
   "cell_type": "markdown",
   "metadata": {},
   "source": [
    "$$\n",
    "X_{i0c}=0\\ \\forall i,\\forall c\n",
    "$$"
   ]
  },
  {
   "cell_type": "code",
   "execution_count": 21,
   "metadata": {},
   "outputs": [],
   "source": [
    "for c in range(1,nc+1):\n",
    "    for i in range(1,n+1):\n",
    "        myModel.addConstr(x[i,1,c] == 0)"
   ]
  },
  {
   "cell_type": "markdown",
   "metadata": {},
   "source": [
    "## Objective"
   ]
  },
  {
   "cell_type": "markdown",
   "metadata": {},
   "source": [
    "$$\n",
    "min\\ \\sum_{j}\\sum_{c} X_{0jc}\n",
    "$$"
   ]
  },
  {
   "cell_type": "code",
   "execution_count": 22,
   "metadata": {},
   "outputs": [],
   "source": [
    "obj = quicksum(quicksum(x[1,j,c]for c in range(1,nc+1)) for j in range(1,n+1))\n",
    "myModel.setObjective(obj)"
   ]
  },
  {
   "cell_type": "code",
   "execution_count": 23,
   "metadata": {},
   "outputs": [
    {
     "data": {
      "text/plain": [
       "<gurobi.LinExpr: x[1,1,1] + x[1,1,2] + x[1,1,3] + x[1,1,4] + x[1,1,5] + x[1,1,6] + x[1,1,7] + x[1,2,1] + x[1,2,2] + x[1,2,3] + x[1,2,4] + x[1,2,5] + x[1,2,6] + x[1,2,7] + x[1,3,1] + x[1,3,2] + x[1,3,3] + x[1,3,4] + x[1,3,5] + x[1,3,6] + x[1,3,7] + x[1,4,1] + x[1,4,2] + x[1,4,3] + x[1,4,4] + x[1,4,5] + x[1,4,6] + x[1,4,7] + x[1,5,1] + x[1,5,2] + x[1,5,3] + x[1,5,4] + x[1,5,5] + x[1,5,6] + x[1,5,7] + x[1,6,1] + x[1,6,2] + x[1,6,3] + x[1,6,4] + x[1,6,5] + x[1,6,6] + x[1,6,7] + x[1,7,1] + x[1,7,2] + x[1,7,3] + x[1,7,4] + x[1,7,5] + x[1,7,6] + x[1,7,7] + x[1,8,1] + x[1,8,2] + x[1,8,3] + x[1,8,4] + x[1,8,5] + x[1,8,6] + x[1,8,7] + x[1,9,1] + x[1,9,2] + x[1,9,3] + x[1,9,4] + x[1,9,5] + x[1,9,6] + x[1,9,7] + x[1,10,1] + x[1,10,2] + x[1,10,3] + x[1,10,4] + x[1,10,5] + x[1,10,6] + x[1,10,7] + x[1,11,1] + x[1,11,2] + x[1,11,3] + x[1,11,4] + x[1,11,5] + x[1,11,6] + x[1,11,7]>"
      ]
     },
     "execution_count": 23,
     "metadata": {},
     "output_type": "execute_result"
    }
   ],
   "source": [
    "obj"
   ]
  },
  {
   "cell_type": "markdown",
   "metadata": {},
   "source": [
    "## Optimization"
   ]
  },
  {
   "cell_type": "code",
   "execution_count": 24,
   "metadata": {},
   "outputs": [
    {
     "name": "stdout",
     "output_type": "stream",
     "text": [
      "Optimize a model with 1320 rows, 924 columns and 6755 nonzeros\n",
      "Variable types: 77 continuous, 847 integer (847 binary)\n",
      "Coefficient statistics:\n",
      "  Matrix range     [6e-01, 1e+03]\n",
      "  Objective range  [1e+00, 1e+00]\n",
      "  Bounds range     [1e+00, 1e+00]\n",
      "  RHS range        [1e+00, 1e+03]\n",
      "Presolve removed 609 rows and 273 columns\n",
      "Presolve time: 0.16s\n",
      "Presolved: 711 rows, 651 columns, 9853 nonzeros\n",
      "Variable types: 63 continuous, 588 integer (588 binary)\n",
      "\n",
      "Root relaxation: objective 0.000000e+00, 135 iterations, 0.01 seconds\n",
      "\n",
      "    Nodes    |    Current Node    |     Objective Bounds      |     Work\n",
      " Expl Unexpl |  Obj  Depth IntInf | Incumbent    BestBd   Gap | It/Node Time\n",
      "\n",
      "     0     0    0.00000    0   19          -    0.00000      -     -    0s\n",
      "H    0     0                       3.0000000    0.00000   100%     -    0s\n",
      "     0     0    0.00000    0   20    3.00000    0.00000   100%     -    0s\n",
      "     0     0    0.00000    0   28    3.00000    0.00000   100%     -    0s\n",
      "     0     0    0.00000    0   20    3.00000    0.00000   100%     -    0s\n",
      "     0     0    0.00000    0   31    3.00000    0.00000   100%     -    0s\n",
      "     0     0    0.00000    0   18    3.00000    0.00000   100%     -    0s\n",
      "     0     0    0.00000    0   18    3.00000    0.00000   100%     -    0s\n",
      "     0     2    0.00000    0   18    3.00000    0.00000   100%     -    0s\n",
      "H  641   169                       2.0000000    0.00000   100%  22.7    1s\n",
      "  2096   567    0.00000   13   15    2.00000    0.00000   100%  25.9    5s\n",
      "  3427   369    0.25687   54   19    2.00000    0.00000   100%  37.3   10s\n",
      "  6616   734    1.00000   48   15    2.00000    0.00000   100%  45.4   15s\n",
      "  8806   651 infeasible   63         2.00000    0.00000   100%  48.1   20s\n",
      "\n",
      "Cutting planes:\n",
      "  Gomory: 2\n",
      "  Cover: 5\n",
      "  Implied bound: 24\n",
      "  Clique: 3\n",
      "  MIR: 1\n",
      "  StrongCG: 1\n",
      "  Flow cover: 35\n",
      "  GUB cover: 9\n",
      "  Inf proof: 1\n",
      "  Zero half: 3\n",
      "\n",
      "Explored 12086 nodes (589775 simplex iterations) in 24.92 seconds\n",
      "Thread count was 8 (of 8 available processors)\n",
      "\n",
      "Solution count 2: 2 3 \n",
      "\n",
      "Optimal solution found (tolerance 1.00e-04)\n",
      "Best objective 2.000000000000e+00, best bound 2.000000000000e+00, gap 0.0000%\n"
     ]
    }
   ],
   "source": [
    "myModel.optimize()"
   ]
  },
  {
   "cell_type": "code",
   "execution_count": 25,
   "metadata": {},
   "outputs": [
    {
     "data": {
      "text/plain": [
       "2.0"
      ]
     },
     "execution_count": 25,
     "metadata": {},
     "output_type": "execute_result"
    }
   ],
   "source": [
    "myModel.ObjBound"
   ]
  },
  {
   "cell_type": "code",
   "execution_count": 26,
   "metadata": {},
   "outputs": [
    {
     "name": "stdout",
     "output_type": "stream",
     "text": [
      "<gurobi.Var x[1,7,2] (value 1.0)>\n",
      "<gurobi.Var x[1,9,5] (value 1.0)>\n",
      "<gurobi.Var x[2,5,5] (value 1.0)>\n",
      "<gurobi.Var x[3,6,5] (value 1.0)>\n",
      "<gurobi.Var x[4,8,2] (value 1.0)>\n",
      "<gurobi.Var x[5,3,5] (value 1.0)>\n",
      "<gurobi.Var x[6,11,5] (value 1.0)>\n",
      "<gurobi.Var x[7,10,2] (value 1.0)>\n",
      "<gurobi.Var x[8,11,2] (value 1.0)>\n",
      "<gurobi.Var x[9,2,5] (value 1.0)>\n",
      "<gurobi.Var x[10,4,2] (value 1.0)>\n"
     ]
    }
   ],
   "source": [
    "for key,i in x.items():\n",
    "    if i.x == 1:\n",
    "        print(i)"
   ]
  },
  {
   "cell_type": "code",
   "execution_count": 27,
   "metadata": {},
   "outputs": [
    {
     "name": "stdout",
     "output_type": "stream",
     "text": [
      "<gurobi.Var w[2,5] (value 1.6499999999999773)>\n",
      "<gurobi.Var w[3,5] (value 6.75)>\n",
      "<gurobi.Var w[4,2] (value 5.649999999999977)>\n",
      "<gurobi.Var w[5,5] (value 5.199999999999932)>\n",
      "<gurobi.Var w[6,5] (value 10.5)>\n",
      "<gurobi.Var w[7,2] (value 2.2500000000000018)>\n",
      "<gurobi.Var w[8,2] (value 8.75)>\n",
      "<gurobi.Var w[9,5] (value 0.5499999999999545)>\n",
      "<gurobi.Var w[10,2] (value 3.5499999999999563)>\n",
      "<gurobi.Var w[11,1] (value 12.0)>\n",
      "<gurobi.Var w[11,2] (value 12.0)>\n",
      "<gurobi.Var w[11,3] (value 12.0)>\n",
      "<gurobi.Var w[11,4] (value 12.0)>\n",
      "<gurobi.Var w[11,5] (value 12.0)>\n",
      "<gurobi.Var w[11,6] (value 12.0)>\n",
      "<gurobi.Var w[11,7] (value 12.0)>\n"
     ]
    }
   ],
   "source": [
    "for key,i in w.items():\n",
    "    if i.x != 0:\n",
    "        print(i)"
   ]
  }
 ],
 "metadata": {
  "kernelspec": {
   "display_name": "Python 3",
   "language": "python",
   "name": "python3"
  },
  "language_info": {
   "codemirror_mode": {
    "name": "ipython",
    "version": 3
   },
   "file_extension": ".py",
   "mimetype": "text/x-python",
   "name": "python",
   "nbconvert_exporter": "python",
   "pygments_lexer": "ipython3",
   "version": "3.6.5"
  }
 },
 "nbformat": 4,
 "nbformat_minor": 2
}
